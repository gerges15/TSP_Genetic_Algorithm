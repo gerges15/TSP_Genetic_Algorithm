{
 "cells": [
  {
   "cell_type": "code",
   "execution_count": 1,
   "metadata": {},
   "outputs": [],
   "source": [
    "import operator\n",
    "import random\n",
    "import numpy as np\n",
    "import pandas as pd"
   ]
  },
  {
   "cell_type": "code",
   "execution_count": 2,
   "metadata": {},
   "outputs": [],
   "source": [
    "pop_ranked = [\n",
    "    (4, 0.006587831970002887),\n",
    "    (1, 0.005940998050890599),\n",
    "    (5, 0.005921812859127111),\n",
    "    (8, 0.005460965508648236),\n",
    "    (9, 0.0053986320673279735),\n",
    "    (0, 0.005398632067327973),\n",
    "    (6, 0.005398632067327973),\n",
    "    (2, 0.0053847901157584276),\n",
    "    (3, 0.0053847901157584276),\n",
    "    (7, 0.004987427324917248),\n",
    "]"
   ]
  },
  {
   "cell_type": "code",
   "execution_count": 3,
   "metadata": {},
   "outputs": [
    {
     "data": {
      "text/plain": [
       "array([[4.00000000e+00, 6.58783197e-03],\n",
       "       [1.00000000e+00, 5.94099805e-03],\n",
       "       [5.00000000e+00, 5.92181286e-03],\n",
       "       [8.00000000e+00, 5.46096551e-03],\n",
       "       [9.00000000e+00, 5.39863207e-03],\n",
       "       [0.00000000e+00, 5.39863207e-03],\n",
       "       [6.00000000e+00, 5.39863207e-03],\n",
       "       [2.00000000e+00, 5.38479012e-03],\n",
       "       [3.00000000e+00, 5.38479012e-03],\n",
       "       [7.00000000e+00, 4.98742732e-03]])"
      ]
     },
     "execution_count": 3,
     "metadata": {},
     "output_type": "execute_result"
    }
   ],
   "source": [
    "arr = np.array(pop_ranked)\n",
    "df = pd.DataFrame(arr, columns=[\"Index\", \"Fitness\"])\n",
    "arr"
   ]
  },
  {
   "cell_type": "code",
   "execution_count": 4,
   "metadata": {},
   "outputs": [
    {
     "data": {
      "text/html": [
       "<div>\n",
       "<style scoped>\n",
       "    .dataframe tbody tr th:only-of-type {\n",
       "        vertical-align: middle;\n",
       "    }\n",
       "\n",
       "    .dataframe tbody tr th {\n",
       "        vertical-align: top;\n",
       "    }\n",
       "\n",
       "    .dataframe thead th {\n",
       "        text-align: right;\n",
       "    }\n",
       "</style>\n",
       "<table border=\"1\" class=\"dataframe\">\n",
       "  <thead>\n",
       "    <tr style=\"text-align: right;\">\n",
       "      <th></th>\n",
       "      <th>Index</th>\n",
       "      <th>Fitness</th>\n",
       "      <th>cum_sum</th>\n",
       "    </tr>\n",
       "  </thead>\n",
       "  <tbody>\n",
       "    <tr>\n",
       "      <th>0</th>\n",
       "      <td>4.0</td>\n",
       "      <td>0.006588</td>\n",
       "      <td>0.006588</td>\n",
       "    </tr>\n",
       "    <tr>\n",
       "      <th>1</th>\n",
       "      <td>1.0</td>\n",
       "      <td>0.005941</td>\n",
       "      <td>0.012529</td>\n",
       "    </tr>\n",
       "    <tr>\n",
       "      <th>2</th>\n",
       "      <td>5.0</td>\n",
       "      <td>0.005922</td>\n",
       "      <td>0.018451</td>\n",
       "    </tr>\n",
       "    <tr>\n",
       "      <th>3</th>\n",
       "      <td>8.0</td>\n",
       "      <td>0.005461</td>\n",
       "      <td>0.023912</td>\n",
       "    </tr>\n",
       "    <tr>\n",
       "      <th>4</th>\n",
       "      <td>9.0</td>\n",
       "      <td>0.005399</td>\n",
       "      <td>0.029310</td>\n",
       "    </tr>\n",
       "    <tr>\n",
       "      <th>5</th>\n",
       "      <td>0.0</td>\n",
       "      <td>0.005399</td>\n",
       "      <td>0.034709</td>\n",
       "    </tr>\n",
       "    <tr>\n",
       "      <th>6</th>\n",
       "      <td>6.0</td>\n",
       "      <td>0.005399</td>\n",
       "      <td>0.040108</td>\n",
       "    </tr>\n",
       "    <tr>\n",
       "      <th>7</th>\n",
       "      <td>2.0</td>\n",
       "      <td>0.005385</td>\n",
       "      <td>0.045492</td>\n",
       "    </tr>\n",
       "    <tr>\n",
       "      <th>8</th>\n",
       "      <td>3.0</td>\n",
       "      <td>0.005385</td>\n",
       "      <td>0.050877</td>\n",
       "    </tr>\n",
       "    <tr>\n",
       "      <th>9</th>\n",
       "      <td>7.0</td>\n",
       "      <td>0.004987</td>\n",
       "      <td>0.055865</td>\n",
       "    </tr>\n",
       "  </tbody>\n",
       "</table>\n",
       "</div>"
      ],
      "text/plain": [
       "   Index   Fitness   cum_sum\n",
       "0    4.0  0.006588  0.006588\n",
       "1    1.0  0.005941  0.012529\n",
       "2    5.0  0.005922  0.018451\n",
       "3    8.0  0.005461  0.023912\n",
       "4    9.0  0.005399  0.029310\n",
       "5    0.0  0.005399  0.034709\n",
       "6    6.0  0.005399  0.040108\n",
       "7    2.0  0.005385  0.045492\n",
       "8    3.0  0.005385  0.050877\n",
       "9    7.0  0.004987  0.055865"
      ]
     },
     "execution_count": 4,
     "metadata": {},
     "output_type": "execute_result"
    }
   ],
   "source": [
    "sum1 = df[\"cum_sum\"] = df.Fitness.cumsum()\n",
    "df"
   ]
  },
  {
   "cell_type": "code",
   "execution_count": 5,
   "metadata": {},
   "outputs": [
    {
     "name": "stdout",
     "output_type": "stream",
     "text": [
      "4,1,5,8,9,0,6,2,3,7,"
     ]
    }
   ],
   "source": [
    "df[\"cum_perc\"] = 100 * df.cum_sum / df.Fitness.sum()\n",
    "df\n",
    "for i in range (len(pop_ranked)):\n",
    "    print(pop_ranked[i][0], end=',')"
   ]
  },
  {
   "cell_type": "code",
   "execution_count": 6,
   "metadata": {},
   "outputs": [
    {
     "data": {
      "text/plain": [
       "15.809318761044288"
      ]
     },
     "execution_count": 6,
     "metadata": {},
     "output_type": "execute_result"
    }
   ],
   "source": [
    "pick =100 * random.random()\n",
    "pick"
   ]
  },
  {
   "cell_type": "code",
   "execution_count": 7,
   "metadata": {},
   "outputs": [
    {
     "data": {
      "text/plain": [
       "np.float64(0.023911608388668834)"
      ]
     },
     "execution_count": 7,
     "metadata": {},
     "output_type": "execute_result"
    }
   ],
   "source": [
    "pick <= df.iat[1, 3]\n",
    "df.iat[3,2]"
   ]
  },
  {
   "cell_type": "code",
   "execution_count": 8,
   "metadata": {},
   "outputs": [
    {
     "data": {
      "text/html": [
       "<div>\n",
       "<style scoped>\n",
       "    .dataframe tbody tr th:only-of-type {\n",
       "        vertical-align: middle;\n",
       "    }\n",
       "\n",
       "    .dataframe tbody tr th {\n",
       "        vertical-align: top;\n",
       "    }\n",
       "\n",
       "    .dataframe thead th {\n",
       "        text-align: right;\n",
       "    }\n",
       "</style>\n",
       "<table border=\"1\" class=\"dataframe\">\n",
       "  <thead>\n",
       "    <tr style=\"text-align: right;\">\n",
       "      <th></th>\n",
       "      <th>Index</th>\n",
       "      <th>Fitness</th>\n",
       "      <th>cum_sum</th>\n",
       "      <th>cum_perc</th>\n",
       "    </tr>\n",
       "  </thead>\n",
       "  <tbody>\n",
       "    <tr>\n",
       "      <th>0</th>\n",
       "      <td>4.0</td>\n",
       "      <td>0.006588</td>\n",
       "      <td>0.006588</td>\n",
       "      <td>11.792517</td>\n",
       "    </tr>\n",
       "    <tr>\n",
       "      <th>1</th>\n",
       "      <td>1.0</td>\n",
       "      <td>0.005941</td>\n",
       "      <td>0.012529</td>\n",
       "      <td>22.427172</td>\n",
       "    </tr>\n",
       "    <tr>\n",
       "      <th>2</th>\n",
       "      <td>5.0</td>\n",
       "      <td>0.005922</td>\n",
       "      <td>0.018451</td>\n",
       "      <td>33.027484</td>\n",
       "    </tr>\n",
       "    <tr>\n",
       "      <th>3</th>\n",
       "      <td>8.0</td>\n",
       "      <td>0.005461</td>\n",
       "      <td>0.023912</td>\n",
       "      <td>42.802859</td>\n",
       "    </tr>\n",
       "    <tr>\n",
       "      <th>4</th>\n",
       "      <td>9.0</td>\n",
       "      <td>0.005399</td>\n",
       "      <td>0.029310</td>\n",
       "      <td>52.466654</td>\n",
       "    </tr>\n",
       "    <tr>\n",
       "      <th>5</th>\n",
       "      <td>0.0</td>\n",
       "      <td>0.005399</td>\n",
       "      <td>0.034709</td>\n",
       "      <td>62.130450</td>\n",
       "    </tr>\n",
       "    <tr>\n",
       "      <th>6</th>\n",
       "      <td>6.0</td>\n",
       "      <td>0.005399</td>\n",
       "      <td>0.040108</td>\n",
       "      <td>71.794245</td>\n",
       "    </tr>\n",
       "    <tr>\n",
       "      <th>7</th>\n",
       "      <td>2.0</td>\n",
       "      <td>0.005385</td>\n",
       "      <td>0.045492</td>\n",
       "      <td>81.433262</td>\n",
       "    </tr>\n",
       "    <tr>\n",
       "      <th>8</th>\n",
       "      <td>3.0</td>\n",
       "      <td>0.005385</td>\n",
       "      <td>0.050877</td>\n",
       "      <td>91.072280</td>\n",
       "    </tr>\n",
       "    <tr>\n",
       "      <th>9</th>\n",
       "      <td>7.0</td>\n",
       "      <td>0.004987</td>\n",
       "      <td>0.055865</td>\n",
       "      <td>100.000000</td>\n",
       "    </tr>\n",
       "  </tbody>\n",
       "</table>\n",
       "</div>"
      ],
      "text/plain": [
       "   Index   Fitness   cum_sum    cum_perc\n",
       "0    4.0  0.006588  0.006588   11.792517\n",
       "1    1.0  0.005941  0.012529   22.427172\n",
       "2    5.0  0.005922  0.018451   33.027484\n",
       "3    8.0  0.005461  0.023912   42.802859\n",
       "4    9.0  0.005399  0.029310   52.466654\n",
       "5    0.0  0.005399  0.034709   62.130450\n",
       "6    6.0  0.005399  0.040108   71.794245\n",
       "7    2.0  0.005385  0.045492   81.433262\n",
       "8    3.0  0.005385  0.050877   91.072280\n",
       "9    7.0  0.004987  0.055865  100.000000"
      ]
     },
     "execution_count": 8,
     "metadata": {},
     "output_type": "execute_result"
    }
   ],
   "source": [
    "df"
   ]
  },
  {
   "cell_type": "code",
   "execution_count": 9,
   "metadata": {},
   "outputs": [
    {
     "data": {
      "text/plain": [
       "[1, 2, 43, 2]"
      ]
     },
     "execution_count": 9,
     "metadata": {},
     "output_type": "execute_result"
    }
   ],
   "source": [
    "ls = [1,2,43,6,7]\n",
    "res = []\n",
    "def repe(s,ls):\n",
    "    for i in range(s):\n",
    "      res.append(ls[i])\n",
    "# def repe(s,ls):\n",
    "#     return [ls[i] for i in range(s)]\n",
    "\n",
    "repe(3,ls)\n",
    "res += [2]\n",
    "res"
   ]
  }
 ],
 "metadata": {
  "kernelspec": {
   "display_name": "Python 3",
   "language": "python",
   "name": "python3"
  },
  "language_info": {
   "codemirror_mode": {
    "name": "ipython",
    "version": 3
   },
   "file_extension": ".py",
   "mimetype": "text/x-python",
   "name": "python",
   "nbconvert_exporter": "python",
   "pygments_lexer": "ipython3",
   "version": "3.13.0"
  }
 },
 "nbformat": 4,
 "nbformat_minor": 2
}
